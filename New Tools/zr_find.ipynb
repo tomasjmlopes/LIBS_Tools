{
 "cells": [
  {
   "cell_type": "code",
   "execution_count": 1,
   "metadata": {},
   "outputs": [],
   "source": [
    "import numpy as np\n",
    "# from data_loader import LIBS_Toolkit\n",
    "from LIBS_handler import LIBS_Toolkit\n",
    "import matplotlib.pyplot as plt"
   ]
  },
  {
   "cell_type": "code",
   "execution_count": 2,
   "metadata": {},
   "outputs": [],
   "source": [
    "fname = r\"E:/Data/Data_LIBS/Vidros/Zircao1.h5\""
   ]
  },
  {
   "cell_type": "code",
   "execution_count": 3,
   "metadata": {},
   "outputs": [],
   "source": [
    "libs_mainupulator = LIBS_Toolkit(fname, overwrite = True)"
   ]
  },
  {
   "cell_type": "code",
   "execution_count": 4,
   "metadata": {},
   "outputs": [],
   "source": [
    "libs_mainupulator.update_elements([\"Zr\", \"Si\", \"O\", \"La\", \"Ce\", \"Pr\", \"Nd\"])"
   ]
  },
  {
   "cell_type": "code",
   "execution_count": 5,
   "metadata": {},
   "outputs": [],
   "source": [
    "libs_mainupulator.load_dataset(baseline_corrected = False)"
   ]
  },
  {
   "cell_type": "markdown",
   "metadata": {},
   "source": [
    "# 1. Preprocess"
   ]
  },
  {
   "cell_type": "code",
   "execution_count": 6,
   "metadata": {},
   "outputs": [],
   "source": [
    "_ = libs_mainupulator.baseline_correct()\n",
    "_ = libs_mainupulator.normalize_to_sum()"
   ]
  },
  {
   "cell_type": "markdown",
   "metadata": {},
   "source": [
    "# 2. Get Emission Lines"
   ]
  },
  {
   "cell_type": "code",
   "execution_count": 15,
   "metadata": {},
   "outputs": [
    {
     "name": "stderr",
     "output_type": "stream",
     "text": [
      "c:\\Users\\tomas\\Desktop\\Tomás\\GitHub\\LIBS_Tools\\New Tools\\LIBS_handler.py:337: RuntimeWarning: invalid value encountered in divide\n",
      "  sums = np.nan_to_num((sums - np.nanmin(sums))/(np.nanmax(sums) - np.nanmin(sums)), nan=0.0)\n"
     ]
    }
   ],
   "source": [
    "libs_mainupulator.automatic_feature_extraction(fft_features = 1, int_features = 20)"
   ]
  },
  {
   "cell_type": "code",
   "execution_count": 17,
   "metadata": {},
   "outputs": [
    {
     "name": "stdout",
     "output_type": "stream",
     "text": [
      "Identified Elements:\n",
      "La:\n",
      "  - Feature at 589.47 nm matches reference line at 589.48 nm\n",
      "    Relative Intensity: 0.115, Category: Low Intensity\n",
      "  - Feature at 766.40 nm matches reference line at 766.43 nm\n",
      "    Relative Intensity: 0.029, Category: Ultra low Intensity\n",
      "Ce:\n",
      "  - Feature at 422.72 nm matches reference line at 422.77 nm\n",
      "    Relative Intensity: 0.206, Category: Low Intensity\n",
      "  - Feature at 414.95 nm matches reference line at 415.00 nm\n",
      "    Relative Intensity: 0.216, Category: Low Intensity\n",
      "  - Feature at 396.80 nm matches reference line at 396.70 nm\n",
      "    Relative Intensity: 0.156, Category: Low Intensity\n",
      "  - Feature at 423.97 nm matches reference line at 423.99 nm\n",
      "    Relative Intensity: 0.317, Category: Medium Intensity\n",
      "  - Feature at 404.63 nm matches reference line at 404.63 nm\n",
      "    Relative Intensity: 0.198, Category: Low Intensity\n",
      "  - Feature at 396.11 nm matches reference line at 396.09 nm\n",
      "    Relative Intensity: 0.151, Category: Low Intensity\n",
      "O:\n",
      "  - Feature at 777.12 nm matches reference line at 777.19 nm\n",
      "    Relative Intensity: 1.000, Category: High Intensity\n",
      "Si:\n",
      "  - Feature at 288.13 nm matches reference line at 288.16 nm\n",
      "    Relative Intensity: 0.682, Category: High Intensity\n"
     ]
    }
   ],
   "source": [
    "identified_elements = libs_mainupulator.id_features(wavelength_tolerance = 0.1, max_ion = 2)\n",
    "libs_mainupulator.detailed_ids()"
   ]
  },
  {
   "cell_type": "code",
   "execution_count": 13,
   "metadata": {},
   "outputs": [],
   "source": [
    "from LIBS_SPEC.element_new import element_information\n",
    "\n",
    "element_data = element_information([\"Zr\"])\n",
    "ll = element_data.generate_lines_database(max_ion_state=3, lower_limit = 200., upper_limit =900.)"
   ]
  }
 ],
 "metadata": {
  "kernelspec": {
   "display_name": "spectral_env",
   "language": "python",
   "name": "python3"
  },
  "language_info": {
   "codemirror_mode": {
    "name": "ipython",
    "version": 3
   },
   "file_extension": ".py",
   "mimetype": "text/x-python",
   "name": "python",
   "nbconvert_exporter": "python",
   "pygments_lexer": "ipython3",
   "version": "3.12.3"
  }
 },
 "nbformat": 4,
 "nbformat_minor": 2
}
